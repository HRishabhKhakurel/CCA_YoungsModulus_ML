{
 "cells": [
  {
   "cell_type": "code",
   "execution_count": 2,
   "metadata": {},
   "outputs": [],
   "source": [
    "import pandas as pd \n",
    "import numpy as np\n",
    "import seaborn as sns\n",
    "import matplotlib.pyplot as plt"
   ]
  },
  {
   "cell_type": "code",
   "execution_count": 3,
   "metadata": {},
   "outputs": [
    {
     "output_type": "execute_result",
     "data": {
      "text/plain": "             Alloy  Diff. Lattice Constants  Diff. Melting Point  \\\n0  Al0.5CoCrCuFeNi                 0.487880           346.087653   \n1    Al0.3CoCrFeNi                 0.449913           295.639150   \n2   Al0.5CrCuFeNi2                 0.381975           344.853267   \n3        CoCrFeNi                  0.365443           180.372358   \n4           NiCoCr                 0.418117           204.299411   \n\n   Mixing Enthalpy  Lattice Constants      Lambda  Diff. in atomic radii  \\\n0        -4.853717           3.172259    0.845568               4.169229   \n1        -9.931969           3.028509    0.908382               3.757616   \n2        -5.856117           3.357152    0.714539               4.199646   \n3        -3.714500           2.951900  126.282311               0.302116   \n4        -5.025233           2.980337  337.314135               0.164559   \n\n         Omega  Melting Temp.  Diff. Electronegativity  Mixing Entropy  \\\n0  5126.805332    1693.017839                 0.094871       14.698051   \n1  2332.647391    1806.304922                 0.095561       12.826063   \n2  3627.716399    1685.745039                 0.100074       12.602340   \n3  5808.140599    1871.750000                 0.086999       11.526293   \n4  3439.052841    1891.981080                 0.100332        9.134363   \n\n   Valence electron  Young's Mod (GPa)  \n0           8.27281              161.1  \n1           7.88379              168.0  \n2           8.45463              172.1  \n3           8.25000              173.9  \n4           8.33325              174.4  ",
      "text/html": "<div>\n<style scoped>\n    .dataframe tbody tr th:only-of-type {\n        vertical-align: middle;\n    }\n\n    .dataframe tbody tr th {\n        vertical-align: top;\n    }\n\n    .dataframe thead th {\n        text-align: right;\n    }\n</style>\n<table border=\"1\" class=\"dataframe\">\n  <thead>\n    <tr style=\"text-align: right;\">\n      <th></th>\n      <th>Alloy</th>\n      <th>Diff. Lattice Constants</th>\n      <th>Diff. Melting Point</th>\n      <th>Mixing Enthalpy</th>\n      <th>Lattice Constants</th>\n      <th>Lambda</th>\n      <th>Diff. in atomic radii</th>\n      <th>Omega</th>\n      <th>Melting Temp.</th>\n      <th>Diff. Electronegativity</th>\n      <th>Mixing Entropy</th>\n      <th>Valence electron</th>\n      <th>Young's Mod (GPa)</th>\n    </tr>\n  </thead>\n  <tbody>\n    <tr>\n      <th>0</th>\n      <td>Al0.5CoCrCuFeNi</td>\n      <td>0.487880</td>\n      <td>346.087653</td>\n      <td>-4.853717</td>\n      <td>3.172259</td>\n      <td>0.845568</td>\n      <td>4.169229</td>\n      <td>5126.805332</td>\n      <td>1693.017839</td>\n      <td>0.094871</td>\n      <td>14.698051</td>\n      <td>8.27281</td>\n      <td>161.1</td>\n    </tr>\n    <tr>\n      <th>1</th>\n      <td>Al0.3CoCrFeNi</td>\n      <td>0.449913</td>\n      <td>295.639150</td>\n      <td>-9.931969</td>\n      <td>3.028509</td>\n      <td>0.908382</td>\n      <td>3.757616</td>\n      <td>2332.647391</td>\n      <td>1806.304922</td>\n      <td>0.095561</td>\n      <td>12.826063</td>\n      <td>7.88379</td>\n      <td>168.0</td>\n    </tr>\n    <tr>\n      <th>2</th>\n      <td>Al0.5CrCuFeNi2</td>\n      <td>0.381975</td>\n      <td>344.853267</td>\n      <td>-5.856117</td>\n      <td>3.357152</td>\n      <td>0.714539</td>\n      <td>4.199646</td>\n      <td>3627.716399</td>\n      <td>1685.745039</td>\n      <td>0.100074</td>\n      <td>12.602340</td>\n      <td>8.45463</td>\n      <td>172.1</td>\n    </tr>\n    <tr>\n      <th>3</th>\n      <td>CoCrFeNi</td>\n      <td>0.365443</td>\n      <td>180.372358</td>\n      <td>-3.714500</td>\n      <td>2.951900</td>\n      <td>126.282311</td>\n      <td>0.302116</td>\n      <td>5808.140599</td>\n      <td>1871.750000</td>\n      <td>0.086999</td>\n      <td>11.526293</td>\n      <td>8.25000</td>\n      <td>173.9</td>\n    </tr>\n    <tr>\n      <th>4</th>\n      <td>NiCoCr</td>\n      <td>0.418117</td>\n      <td>204.299411</td>\n      <td>-5.025233</td>\n      <td>2.980337</td>\n      <td>337.314135</td>\n      <td>0.164559</td>\n      <td>3439.052841</td>\n      <td>1891.981080</td>\n      <td>0.100332</td>\n      <td>9.134363</td>\n      <td>8.33325</td>\n      <td>174.4</td>\n    </tr>\n  </tbody>\n</table>\n</div>"
     },
     "metadata": {},
     "execution_count": 3
    }
   ],
   "source": [
    "data = pd.read_csv(\"Youngs_Data_All.csv\")\n",
    "data = data.iloc[:,1:data.shape[1]]\n",
    "data.head()"
   ]
  },
  {
   "cell_type": "code",
   "execution_count": 4,
   "metadata": {},
   "outputs": [
    {
     "output_type": "stream",
     "name": "stdout",
     "text": "Index(['Diff. Lattice Constants', 'Diff. Melting Point', 'Mixing Enthalpy',\n       'Lattice Constants', 'Lambda', 'Diff. in atomic radii', 'Omega',\n       'Melting Temp.', 'Diff. Electronegativity', 'Mixing Entropy',\n       'Valence electron'],\n      dtype='object')\n"
    },
    {
     "output_type": "execute_result",
     "data": {
      "text/plain": "   Diff. Lattice Constants  Diff. Melting Point  Mixing Enthalpy  \\\n0                 0.487880           346.087653        -4.853717   \n1                 0.449913           295.639150        -9.931969   \n2                 0.381975           344.853267        -5.856117   \n3                 0.365443           180.372358        -3.714500   \n4                 0.418117           204.299411        -5.025233   \n\n   Lattice Constants      Lambda  Diff. in atomic radii        Omega  \\\n0           3.172259    0.845568               4.169229  5126.805332   \n1           3.028509    0.908382               3.757616  2332.647391   \n2           3.357152    0.714539               4.199646  3627.716399   \n3           2.951900  126.282311               0.302116  5808.140599   \n4           2.980337  337.314135               0.164559  3439.052841   \n\n   Melting Temp.  Diff. Electronegativity  Mixing Entropy  Valence electron  \n0    1693.017839                 0.094871       14.698051           8.27281  \n1    1806.304922                 0.095561       12.826063           7.88379  \n2    1685.745039                 0.100074       12.602340           8.45463  \n3    1871.750000                 0.086999       11.526293           8.25000  \n4    1891.981080                 0.100332        9.134363           8.33325  ",
      "text/html": "<div>\n<style scoped>\n    .dataframe tbody tr th:only-of-type {\n        vertical-align: middle;\n    }\n\n    .dataframe tbody tr th {\n        vertical-align: top;\n    }\n\n    .dataframe thead th {\n        text-align: right;\n    }\n</style>\n<table border=\"1\" class=\"dataframe\">\n  <thead>\n    <tr style=\"text-align: right;\">\n      <th></th>\n      <th>Diff. Lattice Constants</th>\n      <th>Diff. Melting Point</th>\n      <th>Mixing Enthalpy</th>\n      <th>Lattice Constants</th>\n      <th>Lambda</th>\n      <th>Diff. in atomic radii</th>\n      <th>Omega</th>\n      <th>Melting Temp.</th>\n      <th>Diff. Electronegativity</th>\n      <th>Mixing Entropy</th>\n      <th>Valence electron</th>\n    </tr>\n  </thead>\n  <tbody>\n    <tr>\n      <th>0</th>\n      <td>0.487880</td>\n      <td>346.087653</td>\n      <td>-4.853717</td>\n      <td>3.172259</td>\n      <td>0.845568</td>\n      <td>4.169229</td>\n      <td>5126.805332</td>\n      <td>1693.017839</td>\n      <td>0.094871</td>\n      <td>14.698051</td>\n      <td>8.27281</td>\n    </tr>\n    <tr>\n      <th>1</th>\n      <td>0.449913</td>\n      <td>295.639150</td>\n      <td>-9.931969</td>\n      <td>3.028509</td>\n      <td>0.908382</td>\n      <td>3.757616</td>\n      <td>2332.647391</td>\n      <td>1806.304922</td>\n      <td>0.095561</td>\n      <td>12.826063</td>\n      <td>7.88379</td>\n    </tr>\n    <tr>\n      <th>2</th>\n      <td>0.381975</td>\n      <td>344.853267</td>\n      <td>-5.856117</td>\n      <td>3.357152</td>\n      <td>0.714539</td>\n      <td>4.199646</td>\n      <td>3627.716399</td>\n      <td>1685.745039</td>\n      <td>0.100074</td>\n      <td>12.602340</td>\n      <td>8.45463</td>\n    </tr>\n    <tr>\n      <th>3</th>\n      <td>0.365443</td>\n      <td>180.372358</td>\n      <td>-3.714500</td>\n      <td>2.951900</td>\n      <td>126.282311</td>\n      <td>0.302116</td>\n      <td>5808.140599</td>\n      <td>1871.750000</td>\n      <td>0.086999</td>\n      <td>11.526293</td>\n      <td>8.25000</td>\n    </tr>\n    <tr>\n      <th>4</th>\n      <td>0.418117</td>\n      <td>204.299411</td>\n      <td>-5.025233</td>\n      <td>2.980337</td>\n      <td>337.314135</td>\n      <td>0.164559</td>\n      <td>3439.052841</td>\n      <td>1891.981080</td>\n      <td>0.100332</td>\n      <td>9.134363</td>\n      <td>8.33325</td>\n    </tr>\n  </tbody>\n</table>\n</div>"
     },
     "metadata": {},
     "execution_count": 4
    }
   ],
   "source": [
    "# Preparing training data\n",
    "train_features = data.iloc[:,1:data.shape[1]-1]\n",
    "feature_names = train_features.columns\n",
    "print(feature_names)\n",
    "Y_train = data.iloc[:,-1]\n",
    "train_features.head()"
   ]
  },
  {
   "cell_type": "code",
   "execution_count": 5,
   "metadata": {},
   "outputs": [
    {
     "output_type": "execute_result",
     "data": {
      "text/plain": "   Diff. Lattice Constants  Diff. Melting Point  Mixing Enthalpy  \\\n0                 0.056563           230.122800        -2.409071   \n1                 0.085520           304.593502        -2.880178   \n2                 0.066572           277.113407        -2.513300   \n3                 0.067770           299.449289        -2.673892   \n4                 0.072350           347.314717        -2.887244   \n\n   Lattice Constants    Lambda  Diff. in atomic radii        Omega  \\\n0           3.159695  0.414257               3.322804  5485.118696   \n1           3.161792  0.459003               3.529138  5714.241642   \n2           3.160649  0.515978               3.245290  6283.605416   \n3           3.161718  0.517484               3.420145  6597.369995   \n4           3.164379  0.595586               3.428067  7141.937164   \n\n   Melting Temp.  Diff. Electronegativity  Mixing Entropy  Valence electron  \n0    2889.060100                 0.045833        4.573820           5.80020  \n1    2878.892333                 0.048345        5.716794           5.76110  \n2    2906.130715                 0.046283        5.434231           5.79713  \n3    2914.259835                 0.047778        6.053219           5.78350  \n4    2946.161082                 0.048202        6.999113           5.77829  ",
      "text/html": "<div>\n<style scoped>\n    .dataframe tbody tr th:only-of-type {\n        vertical-align: middle;\n    }\n\n    .dataframe tbody tr th {\n        vertical-align: top;\n    }\n\n    .dataframe thead th {\n        text-align: right;\n    }\n</style>\n<table border=\"1\" class=\"dataframe\">\n  <thead>\n    <tr style=\"text-align: right;\">\n      <th></th>\n      <th>Diff. Lattice Constants</th>\n      <th>Diff. Melting Point</th>\n      <th>Mixing Enthalpy</th>\n      <th>Lattice Constants</th>\n      <th>Lambda</th>\n      <th>Diff. in atomic radii</th>\n      <th>Omega</th>\n      <th>Melting Temp.</th>\n      <th>Diff. Electronegativity</th>\n      <th>Mixing Entropy</th>\n      <th>Valence electron</th>\n    </tr>\n  </thead>\n  <tbody>\n    <tr>\n      <th>0</th>\n      <td>0.056563</td>\n      <td>230.122800</td>\n      <td>-2.409071</td>\n      <td>3.159695</td>\n      <td>0.414257</td>\n      <td>3.322804</td>\n      <td>5485.118696</td>\n      <td>2889.060100</td>\n      <td>0.045833</td>\n      <td>4.573820</td>\n      <td>5.80020</td>\n    </tr>\n    <tr>\n      <th>1</th>\n      <td>0.085520</td>\n      <td>304.593502</td>\n      <td>-2.880178</td>\n      <td>3.161792</td>\n      <td>0.459003</td>\n      <td>3.529138</td>\n      <td>5714.241642</td>\n      <td>2878.892333</td>\n      <td>0.048345</td>\n      <td>5.716794</td>\n      <td>5.76110</td>\n    </tr>\n    <tr>\n      <th>2</th>\n      <td>0.066572</td>\n      <td>277.113407</td>\n      <td>-2.513300</td>\n      <td>3.160649</td>\n      <td>0.515978</td>\n      <td>3.245290</td>\n      <td>6283.605416</td>\n      <td>2906.130715</td>\n      <td>0.046283</td>\n      <td>5.434231</td>\n      <td>5.79713</td>\n    </tr>\n    <tr>\n      <th>3</th>\n      <td>0.067770</td>\n      <td>299.449289</td>\n      <td>-2.673892</td>\n      <td>3.161718</td>\n      <td>0.517484</td>\n      <td>3.420145</td>\n      <td>6597.369995</td>\n      <td>2914.259835</td>\n      <td>0.047778</td>\n      <td>6.053219</td>\n      <td>5.78350</td>\n    </tr>\n    <tr>\n      <th>4</th>\n      <td>0.072350</td>\n      <td>347.314717</td>\n      <td>-2.887244</td>\n      <td>3.164379</td>\n      <td>0.595586</td>\n      <td>3.428067</td>\n      <td>7141.937164</td>\n      <td>2946.161082</td>\n      <td>0.048202</td>\n      <td>6.999113</td>\n      <td>5.77829</td>\n    </tr>\n  </tbody>\n</table>\n</div>"
     },
     "metadata": {},
     "execution_count": 5
    }
   ],
   "source": [
    "# Preparing validation data\n",
    "test = pd.read_csv(\"validation_data.csv\")\n",
    "test = test.iloc[:,1:test.shape[1]]\n",
    "\n",
    "test_features = test.iloc[:,1:test.shape[1]-1]\n",
    "Y_test = test.iloc[:,-1]\n",
    "test_features.head()"
   ]
  },
  {
   "cell_type": "code",
   "execution_count": 12,
   "metadata": {},
   "outputs": [],
   "source": [
    "correlation = train_features.corr()\n",
    "correlation.to_csv('larger_correlation.csv')"
   ]
  },
  {
   "cell_type": "code",
   "execution_count": 6,
   "metadata": {},
   "outputs": [
    {
     "output_type": "execute_result",
     "data": {
      "text/plain": "   Diff. Lattice Constants  Diff. Melting Point  Mixing Enthalpy  \\\n0                 0.006875            -0.544620         0.304773   \n1                -0.052758            -0.855978        -0.403617   \n2                -0.159466            -0.552238         0.164943   \n3                -0.185432            -1.567382         0.463687   \n4                -0.102699            -1.419709         0.280847   \n\n   Lattice Constants    Lambda  Diff. in atomic radii     Omega  \\\n0          -0.334364 -0.212975              -0.284469 -0.221724   \n1          -0.707374 -0.211820              -0.514729 -0.297198   \n2           0.145405 -0.215387              -0.267453 -0.262216   \n3          -0.906163  2.095309              -2.447770 -0.203321   \n4          -0.832374  5.978713              -2.524721 -0.267312   \n\n   Melting Temp.  Diff. Electronegativity  Mixing Entropy  Valence electron  \n0      -1.025382                 0.216560        1.211825          1.216773  \n1      -0.775177                 0.240320        0.253313          0.988121  \n2      -1.041445                 0.395691        0.138760          1.323640  \n3      -0.630636                -0.054495       -0.412207          1.203366  \n4      -0.585954                 0.404597       -1.636944          1.252297  ",
      "text/html": "<div>\n<style scoped>\n    .dataframe tbody tr th:only-of-type {\n        vertical-align: middle;\n    }\n\n    .dataframe tbody tr th {\n        vertical-align: top;\n    }\n\n    .dataframe thead th {\n        text-align: right;\n    }\n</style>\n<table border=\"1\" class=\"dataframe\">\n  <thead>\n    <tr style=\"text-align: right;\">\n      <th></th>\n      <th>Diff. Lattice Constants</th>\n      <th>Diff. Melting Point</th>\n      <th>Mixing Enthalpy</th>\n      <th>Lattice Constants</th>\n      <th>Lambda</th>\n      <th>Diff. in atomic radii</th>\n      <th>Omega</th>\n      <th>Melting Temp.</th>\n      <th>Diff. Electronegativity</th>\n      <th>Mixing Entropy</th>\n      <th>Valence electron</th>\n    </tr>\n  </thead>\n  <tbody>\n    <tr>\n      <th>0</th>\n      <td>0.006875</td>\n      <td>-0.544620</td>\n      <td>0.304773</td>\n      <td>-0.334364</td>\n      <td>-0.212975</td>\n      <td>-0.284469</td>\n      <td>-0.221724</td>\n      <td>-1.025382</td>\n      <td>0.216560</td>\n      <td>1.211825</td>\n      <td>1.216773</td>\n    </tr>\n    <tr>\n      <th>1</th>\n      <td>-0.052758</td>\n      <td>-0.855978</td>\n      <td>-0.403617</td>\n      <td>-0.707374</td>\n      <td>-0.211820</td>\n      <td>-0.514729</td>\n      <td>-0.297198</td>\n      <td>-0.775177</td>\n      <td>0.240320</td>\n      <td>0.253313</td>\n      <td>0.988121</td>\n    </tr>\n    <tr>\n      <th>2</th>\n      <td>-0.159466</td>\n      <td>-0.552238</td>\n      <td>0.164943</td>\n      <td>0.145405</td>\n      <td>-0.215387</td>\n      <td>-0.267453</td>\n      <td>-0.262216</td>\n      <td>-1.041445</td>\n      <td>0.395691</td>\n      <td>0.138760</td>\n      <td>1.323640</td>\n    </tr>\n    <tr>\n      <th>3</th>\n      <td>-0.185432</td>\n      <td>-1.567382</td>\n      <td>0.463687</td>\n      <td>-0.906163</td>\n      <td>2.095309</td>\n      <td>-2.447770</td>\n      <td>-0.203321</td>\n      <td>-0.630636</td>\n      <td>-0.054495</td>\n      <td>-0.412207</td>\n      <td>1.203366</td>\n    </tr>\n    <tr>\n      <th>4</th>\n      <td>-0.102699</td>\n      <td>-1.419709</td>\n      <td>0.280847</td>\n      <td>-0.832374</td>\n      <td>5.978713</td>\n      <td>-2.524721</td>\n      <td>-0.267312</td>\n      <td>-0.585954</td>\n      <td>0.404597</td>\n      <td>-1.636944</td>\n      <td>1.252297</td>\n    </tr>\n  </tbody>\n</table>\n</div>"
     },
     "metadata": {},
     "execution_count": 6
    }
   ],
   "source": [
    "#scaling\n",
    "from sklearn.preprocessing import StandardScaler\n",
    "scaler = StandardScaler()\n",
    "scaled_train_features = pd.DataFrame(scaler.fit_transform(train_features))\n",
    "scaled_train_features.columns = feature_names\n",
    "scaled_train_features.head()"
   ]
  },
  {
   "cell_type": "code",
   "execution_count": 7,
   "metadata": {},
   "outputs": [
    {
     "output_type": "execute_result",
     "data": {
      "text/plain": "   Diff. Lattice Constants  Diff. Melting Point  Mixing Enthalpy  \\\n0                -0.670579            -1.260332         0.645788   \n1                -0.625096            -0.800714         0.580071   \n2                -0.654858            -0.970315         0.631249   \n3                -0.652976            -0.832463         0.608847   \n4                -0.645782            -0.537047         0.579085   \n\n   Lattice Constants    Lambda  Diff. in atomic radii     Omega  \\\n0          -0.366965 -0.220912              -0.757967 -0.212046   \n1          -0.361526 -0.220089              -0.642542 -0.205857   \n2          -0.364491 -0.219041              -0.801329 -0.190478   \n3          -0.361717 -0.219013              -0.703514 -0.182003   \n4          -0.354811 -0.217576              -0.699082 -0.167293   \n\n   Melting Temp.  Diff. Electronegativity  Mixing Entropy  Valence electron  \n0       1.616183                -1.471865       -3.972074         -0.236535  \n1       1.593727                -1.385374       -3.386838         -0.259517  \n2       1.653885                -1.456357       -3.531519         -0.238339  \n3       1.671839                -1.404899       -3.214579         -0.246351  \n4       1.742296                -1.390285       -2.730254         -0.249413  ",
      "text/html": "<div>\n<style scoped>\n    .dataframe tbody tr th:only-of-type {\n        vertical-align: middle;\n    }\n\n    .dataframe tbody tr th {\n        vertical-align: top;\n    }\n\n    .dataframe thead th {\n        text-align: right;\n    }\n</style>\n<table border=\"1\" class=\"dataframe\">\n  <thead>\n    <tr style=\"text-align: right;\">\n      <th></th>\n      <th>Diff. Lattice Constants</th>\n      <th>Diff. Melting Point</th>\n      <th>Mixing Enthalpy</th>\n      <th>Lattice Constants</th>\n      <th>Lambda</th>\n      <th>Diff. in atomic radii</th>\n      <th>Omega</th>\n      <th>Melting Temp.</th>\n      <th>Diff. Electronegativity</th>\n      <th>Mixing Entropy</th>\n      <th>Valence electron</th>\n    </tr>\n  </thead>\n  <tbody>\n    <tr>\n      <th>0</th>\n      <td>-0.670579</td>\n      <td>-1.260332</td>\n      <td>0.645788</td>\n      <td>-0.366965</td>\n      <td>-0.220912</td>\n      <td>-0.757967</td>\n      <td>-0.212046</td>\n      <td>1.616183</td>\n      <td>-1.471865</td>\n      <td>-3.972074</td>\n      <td>-0.236535</td>\n    </tr>\n    <tr>\n      <th>1</th>\n      <td>-0.625096</td>\n      <td>-0.800714</td>\n      <td>0.580071</td>\n      <td>-0.361526</td>\n      <td>-0.220089</td>\n      <td>-0.642542</td>\n      <td>-0.205857</td>\n      <td>1.593727</td>\n      <td>-1.385374</td>\n      <td>-3.386838</td>\n      <td>-0.259517</td>\n    </tr>\n    <tr>\n      <th>2</th>\n      <td>-0.654858</td>\n      <td>-0.970315</td>\n      <td>0.631249</td>\n      <td>-0.364491</td>\n      <td>-0.219041</td>\n      <td>-0.801329</td>\n      <td>-0.190478</td>\n      <td>1.653885</td>\n      <td>-1.456357</td>\n      <td>-3.531519</td>\n      <td>-0.238339</td>\n    </tr>\n    <tr>\n      <th>3</th>\n      <td>-0.652976</td>\n      <td>-0.832463</td>\n      <td>0.608847</td>\n      <td>-0.361717</td>\n      <td>-0.219013</td>\n      <td>-0.703514</td>\n      <td>-0.182003</td>\n      <td>1.671839</td>\n      <td>-1.404899</td>\n      <td>-3.214579</td>\n      <td>-0.246351</td>\n    </tr>\n    <tr>\n      <th>4</th>\n      <td>-0.645782</td>\n      <td>-0.537047</td>\n      <td>0.579085</td>\n      <td>-0.354811</td>\n      <td>-0.217576</td>\n      <td>-0.699082</td>\n      <td>-0.167293</td>\n      <td>1.742296</td>\n      <td>-1.390285</td>\n      <td>-2.730254</td>\n      <td>-0.249413</td>\n    </tr>\n  </tbody>\n</table>\n</div>"
     },
     "metadata": {},
     "execution_count": 7
    }
   ],
   "source": [
    "# scaling the validation set\n",
    "scaled_test_features = pd.DataFrame(scaler.transform(test_features))\n",
    "scaled_test_features.columns = feature_names\n",
    "scaled_test_features.head()"
   ]
  },
  {
   "cell_type": "code",
   "execution_count": 16,
   "metadata": {},
   "outputs": [],
   "source": [
    "# Gradient boosting\n",
    "from sklearn.ensemble import GradientBoostingRegressor\n",
    "\n",
    "# parameter after hyper parameter tuning \n",
    "params = {'learning_rate': 0.01, 'max_depth': 3, 'min_samples_leaf': 1, 'min_samples_split': 3, 'n_estimators': 700}\n",
    "\n",
    "gbr = GradientBoostingRegressor(**params, random_state = 1)"
   ]
  },
  {
   "cell_type": "code",
   "execution_count": 19,
   "metadata": {},
   "outputs": [],
   "source": [
    "# cross validation\n",
    "from sklearn.model_selection import cross_validate\n",
    "cv_result = cross_validate(gbr, scaled_train_features, Y_train, cv = 5, return_train_score = True, scoring = 'neg_mean_absolute_error')"
   ]
  },
  {
   "cell_type": "code",
   "execution_count": 20,
   "metadata": {},
   "outputs": [
    {
     "output_type": "stream",
     "name": "stdout",
     "text": "{'fit_time': array([0.63937593, 0.55941057, 0.54813123, 0.54713535, 0.63360691]), 'score_time': array([0.00168872, 0.00375557, 0.00243354, 0.00178409, 0.00265551]), 'test_score': array([-34.56782704, -27.43823403, -23.79085064, -16.26370677,\n       -13.63266303]), 'train_score': array([-5.22721438, -5.77700241, -7.56828882, -7.85346576, -8.73229237])}\ntrain error: -7.0316527474343316\ntest error: -23.138656300350277\n"
    }
   ],
   "source": [
    "print(cv_result)\n",
    "print('train error:', np.mean(cv_result['train_score']) )\n",
    "print('test error:', np.mean(cv_result['test_score']) )"
   ]
  },
  {
   "cell_type": "code",
   "execution_count": 21,
   "metadata": {},
   "outputs": [
    {
     "output_type": "execute_result",
     "data": {
      "text/plain": "GradientBoostingRegressor(alpha=0.9, ccp_alpha=0.0, criterion='friedman_mse',\n                          init=None, learning_rate=0.01, loss='ls', max_depth=3,\n                          max_features=None, max_leaf_nodes=None,\n                          min_impurity_decrease=0.0, min_impurity_split=None,\n                          min_samples_leaf=1, min_samples_split=3,\n                          min_weight_fraction_leaf=0.0, n_estimators=700,\n                          n_iter_no_change=None, presort='deprecated',\n                          random_state=1, subsample=1.0, tol=0.0001,\n                          validation_fraction=0.1, verbose=0, warm_start=False)"
     },
     "metadata": {},
     "execution_count": 21
    }
   ],
   "source": [
    "gbr.fit(scaled_train_features,Y_train)"
   ]
  },
  {
   "cell_type": "code",
   "execution_count": 29,
   "metadata": {},
   "outputs": [],
   "source": [
    "imp = pd.DataFrame(gbr.feature_importances_)\n",
    "result = pd.concat([pd.DataFrame(feature_names),imp],axis = 1)\n",
    "result.columns = ['Feature Names','Importance']\n",
    "result.to_csv(\"Feature_importance_gbr.csv\")"
   ]
  },
  {
   "cell_type": "code",
   "execution_count": 35,
   "metadata": {},
   "outputs": [],
   "source": [
    "pred = pd.DataFrame(gbr.predict(scaled_test_features))\n",
    "predictions = pd.concat([test.iloc[:,0],Y_test, pred], axis = 1)\n",
    "predictions.columns = ['Alloy','True Youngs modulus', 'GBR predictions']\n",
    "predictions.to_csv(\"Predictions for GBR.csv\")"
   ]
  },
  {
   "cell_type": "code",
   "execution_count": 37,
   "metadata": {},
   "outputs": [],
   "source": [
    "# Gradient boosting\n",
    "from sklearn.ensemble import AdaBoostRegressor\n",
    "\n",
    "# parameter after hyper parameter tuning \n",
    "params = {'learning_rate': 0.5, 'n_estimators': 600}\n",
    "\n",
    "ada = AdaBoostRegressor(**params, random_state = 1)"
   ]
  },
  {
   "cell_type": "code",
   "execution_count": 38,
   "metadata": {},
   "outputs": [],
   "source": [
    "# cross validation\n",
    "from sklearn.model_selection import cross_validate\n",
    "cv_result = cross_validate(ada, scaled_train_features, Y_train, cv = 5, return_train_score = True, scoring = 'neg_mean_absolute_error')"
   ]
  },
  {
   "cell_type": "code",
   "execution_count": 39,
   "metadata": {},
   "outputs": [
    {
     "output_type": "stream",
     "name": "stdout",
     "text": "{'fit_time': array([1.6321311 , 1.63631845, 1.76289463, 1.47698379, 1.21589613]), 'score_time': array([0.06196284, 0.0684371 , 0.0738368 , 0.07938862, 0.04915404]), 'test_score': array([-34.21605106, -31.98311656, -21.0250271 , -24.46342199,\n       -16.37836609]), 'train_score': array([-14.02166474, -13.09716322, -15.87791199, -16.30129541,\n       -17.35603194])}\ntrain error: -15.330813461923196\ntest error: -25.61319656114597\n"
    }
   ],
   "source": [
    "print(cv_result)\n",
    "print('train error:', np.mean(cv_result['train_score']) )\n",
    "print('test error:', np.mean(cv_result['test_score']) )"
   ]
  },
  {
   "cell_type": "code",
   "execution_count": 40,
   "metadata": {},
   "outputs": [
    {
     "output_type": "execute_result",
     "data": {
      "text/plain": "AdaBoostRegressor(base_estimator=None, learning_rate=0.5, loss='linear',\n                  n_estimators=600, random_state=1)"
     },
     "metadata": {},
     "execution_count": 40
    }
   ],
   "source": [
    "ada.fit(scaled_train_features,Y_train)"
   ]
  },
  {
   "cell_type": "code",
   "execution_count": 41,
   "metadata": {},
   "outputs": [],
   "source": [
    "imp = pd.DataFrame(ada.feature_importances_)\n",
    "result = pd.concat([pd.DataFrame(feature_names),imp],axis = 1)\n",
    "result.columns = ['Feature Names','Importance']\n",
    "result.to_csv(\"Feature_importance_ada.csv\")"
   ]
  },
  {
   "cell_type": "code",
   "execution_count": 42,
   "metadata": {},
   "outputs": [],
   "source": [
    "pred = pd.DataFrame(ada.predict(scaled_test_features))\n",
    "predictions = pd.concat([test.iloc[:,0],Y_test, pred], axis = 1)\n",
    "predictions.columns = ['Alloy','True Youngs modulus', 'AdaBoost predictions']\n",
    "predictions.to_csv(\"Predictions for ada.csv\")"
   ]
  },
  {
   "cell_type": "code",
   "execution_count": 8,
   "metadata": {},
   "outputs": [],
   "source": [
    "# XGBoost\n",
    "\n",
    "# parameter after hyper parameter tuning \n",
    "params = {'learning_rate': 0.27, 'max_delta_step': 0, 'max_depth': 8, 'min_child_weight': 1, 'n_estimators': 100}\n",
    "\n",
    "import xgboost as xgb\n",
    "xgb_reg = xgb.XGBRegressor(**params, random_state=1)"
   ]
  },
  {
   "cell_type": "code",
   "execution_count": 9,
   "metadata": {},
   "outputs": [],
   "source": [
    "# cross validation\n",
    "from sklearn.model_selection import cross_validate\n",
    "cv_result = cross_validate(xgb_reg, scaled_train_features, Y_train, cv = 5, return_train_score = True, scoring = 'neg_mean_absolute_error')"
   ]
  },
  {
   "cell_type": "code",
   "execution_count": 10,
   "metadata": {},
   "outputs": [
    {
     "output_type": "stream",
     "name": "stdout",
     "text": "{'fit_time': array([0.42271233, 0.17406178, 0.66661072, 0.10120654, 0.29889011]), 'score_time': array([0.00205684, 0.0039947 , 0.01327085, 0.01155376, 0.00701642]), 'test_score': array([-29.00991378, -30.73674652, -18.11442967, -17.90400302,\n       -14.27108994]), 'train_score': array([-6.33944261e-04, -3.93333847e-01, -6.23391727e-01, -9.16940800e-01,\n       -9.09489260e-01])}\ntrain error: -0.5687579153875697\ntest error: -22.007236587110953\n"
    }
   ],
   "source": [
    "print(cv_result)\n",
    "print('train error:', np.mean(cv_result['train_score']) )\n",
    "print('test error:', np.mean(cv_result['test_score']) )"
   ]
  },
  {
   "cell_type": "code",
   "execution_count": 11,
   "metadata": {},
   "outputs": [
    {
     "output_type": "execute_result",
     "data": {
      "text/plain": "XGBRegressor(base_score=0.5, booster='gbtree', colsample_bylevel=1,\n             colsample_bynode=1, colsample_bytree=1, gamma=0, gpu_id=-1,\n             importance_type='gain', interaction_constraints='',\n             learning_rate=0.27, max_delta_step=0, max_depth=8,\n             min_child_weight=1, missing=nan, monotone_constraints='()',\n             n_estimators=100, n_jobs=0, num_parallel_tree=1,\n             objective='reg:squarederror', random_state=1, reg_alpha=0,\n             reg_lambda=1, scale_pos_weight=1, subsample=1, tree_method='exact',\n             validate_parameters=1, verbosity=None)"
     },
     "metadata": {},
     "execution_count": 11
    }
   ],
   "source": [
    "xgb_reg.fit(scaled_train_features,Y_train)"
   ]
  },
  {
   "cell_type": "code",
   "execution_count": 13,
   "metadata": {},
   "outputs": [
    {
     "output_type": "execute_result",
     "data": {
      "text/plain": "              Feature Names  Importance\n0   Diff. Lattice Constants    0.014255\n1       Diff. Melting Point    0.035101\n2           Mixing Enthalpy    0.067195\n3         Lattice Constants    0.030169\n4                    Lambda    0.149026\n5     Diff. in atomic radii    0.375072\n6                     Omega    0.007393\n7             Melting Temp.    0.083734\n8   Diff. Electronegativity    0.058350\n9            Mixing Entropy    0.012558\n10         Valence electron    0.167146",
      "text/html": "<div>\n<style scoped>\n    .dataframe tbody tr th:only-of-type {\n        vertical-align: middle;\n    }\n\n    .dataframe tbody tr th {\n        vertical-align: top;\n    }\n\n    .dataframe thead th {\n        text-align: right;\n    }\n</style>\n<table border=\"1\" class=\"dataframe\">\n  <thead>\n    <tr style=\"text-align: right;\">\n      <th></th>\n      <th>Feature Names</th>\n      <th>Importance</th>\n    </tr>\n  </thead>\n  <tbody>\n    <tr>\n      <th>0</th>\n      <td>Diff. Lattice Constants</td>\n      <td>0.014255</td>\n    </tr>\n    <tr>\n      <th>1</th>\n      <td>Diff. Melting Point</td>\n      <td>0.035101</td>\n    </tr>\n    <tr>\n      <th>2</th>\n      <td>Mixing Enthalpy</td>\n      <td>0.067195</td>\n    </tr>\n    <tr>\n      <th>3</th>\n      <td>Lattice Constants</td>\n      <td>0.030169</td>\n    </tr>\n    <tr>\n      <th>4</th>\n      <td>Lambda</td>\n      <td>0.149026</td>\n    </tr>\n    <tr>\n      <th>5</th>\n      <td>Diff. in atomic radii</td>\n      <td>0.375072</td>\n    </tr>\n    <tr>\n      <th>6</th>\n      <td>Omega</td>\n      <td>0.007393</td>\n    </tr>\n    <tr>\n      <th>7</th>\n      <td>Melting Temp.</td>\n      <td>0.083734</td>\n    </tr>\n    <tr>\n      <th>8</th>\n      <td>Diff. Electronegativity</td>\n      <td>0.058350</td>\n    </tr>\n    <tr>\n      <th>9</th>\n      <td>Mixing Entropy</td>\n      <td>0.012558</td>\n    </tr>\n    <tr>\n      <th>10</th>\n      <td>Valence electron</td>\n      <td>0.167146</td>\n    </tr>\n  </tbody>\n</table>\n</div>"
     },
     "metadata": {},
     "execution_count": 13
    }
   ],
   "source": [
    "imp = pd.DataFrame(xgb_reg.feature_importances_)\n",
    "result = pd.concat([pd.DataFrame(feature_names),imp],axis = 1)\n",
    "result.columns = ['Feature Names','Importance']\n",
    "result.to_csv(\"Feature_importance_xgb.csv\")\n",
    "result"
   ]
  },
  {
   "cell_type": "code",
   "execution_count": null,
   "metadata": {},
   "outputs": [],
   "source": []
  }
 ],
 "metadata": {
  "language_info": {
   "codemirror_mode": {
    "name": "ipython",
    "version": 3
   },
   "file_extension": ".py",
   "mimetype": "text/x-python",
   "name": "python",
   "nbconvert_exporter": "python",
   "pygments_lexer": "ipython3",
   "version": 3
  },
  "orig_nbformat": 2,
  "kernelspec": {
   "name": "python_defaultSpec_1596137326380",
   "display_name": "Python 3.7.6 64-bit ('base': conda)"
  }
 },
 "nbformat": 4,
 "nbformat_minor": 2
}