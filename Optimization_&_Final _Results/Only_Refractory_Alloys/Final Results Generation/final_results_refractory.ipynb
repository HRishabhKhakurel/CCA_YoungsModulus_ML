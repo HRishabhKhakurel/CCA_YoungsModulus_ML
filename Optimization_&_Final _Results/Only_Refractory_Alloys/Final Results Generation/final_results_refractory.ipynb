{
 "cells": [
  {
   "cell_type": "code",
   "execution_count": 1,
   "metadata": {},
   "outputs": [],
   "source": [
    "import pandas as pd \n",
    "import numpy as np\n",
    "import seaborn as sns\n",
    "import matplotlib.pyplot as plt"
   ]
  },
  {
   "cell_type": "code",
   "execution_count": 2,
   "metadata": {},
   "outputs": [
    {
     "output_type": "execute_result",
     "data": {
      "text/plain": "        Alloy  Diff. Lattice Constants  Diff. Melting Point  Mixing Enthalpy  \\\n0  TaNbHfZrTi                 0.129156           476.414945            2.644   \n1        TiTa                 0.175250           674.500000            1.388   \n2        MoZr                 0.042500           384.000000           -5.988   \n3         MoW                 0.009100           399.500000           -0.221   \n4         WTa                 0.068050           202.500000           -7.298   \n\n   Lattice Constants      Lambda  Diff. in atomic radii         Omega  \\\n0            3.19618    0.536462               4.994417  12769.215378   \n1            3.12605    4.707131               1.106501  10859.876948   \n2            3.18950    0.088020               8.091706   2417.672605   \n3            3.15610  268.450958               0.146520  85938.681914   \n4            3.23325    1.135961               2.252413   2757.986918   \n\n   Melting Temp.  Diff. Electronegativity  Mixing Entropy  Valence electron  \\\n0         2523.0                  0.08681       13.381611               4.4   \n1         2615.5                  0.02000        5.763146               4.5   \n2         2512.0                  0.07500        5.763146               5.0   \n3         3295.5                  0.00000        5.763146               6.0   \n4         3492.5                  0.06500        5.763146               5.5   \n\n   Young's Mod (GPa)  \n0            49.8800  \n1           110.7408  \n2           158.3784  \n3           285.8335  \n4           218.0652  ",
      "text/html": "<div>\n<style scoped>\n    .dataframe tbody tr th:only-of-type {\n        vertical-align: middle;\n    }\n\n    .dataframe tbody tr th {\n        vertical-align: top;\n    }\n\n    .dataframe thead th {\n        text-align: right;\n    }\n</style>\n<table border=\"1\" class=\"dataframe\">\n  <thead>\n    <tr style=\"text-align: right;\">\n      <th></th>\n      <th>Alloy</th>\n      <th>Diff. Lattice Constants</th>\n      <th>Diff. Melting Point</th>\n      <th>Mixing Enthalpy</th>\n      <th>Lattice Constants</th>\n      <th>Lambda</th>\n      <th>Diff. in atomic radii</th>\n      <th>Omega</th>\n      <th>Melting Temp.</th>\n      <th>Diff. Electronegativity</th>\n      <th>Mixing Entropy</th>\n      <th>Valence electron</th>\n      <th>Young's Mod (GPa)</th>\n    </tr>\n  </thead>\n  <tbody>\n    <tr>\n      <th>0</th>\n      <td>TaNbHfZrTi</td>\n      <td>0.129156</td>\n      <td>476.414945</td>\n      <td>2.644</td>\n      <td>3.19618</td>\n      <td>0.536462</td>\n      <td>4.994417</td>\n      <td>12769.215378</td>\n      <td>2523.0</td>\n      <td>0.08681</td>\n      <td>13.381611</td>\n      <td>4.4</td>\n      <td>49.8800</td>\n    </tr>\n    <tr>\n      <th>1</th>\n      <td>TiTa</td>\n      <td>0.175250</td>\n      <td>674.500000</td>\n      <td>1.388</td>\n      <td>3.12605</td>\n      <td>4.707131</td>\n      <td>1.106501</td>\n      <td>10859.876948</td>\n      <td>2615.5</td>\n      <td>0.02000</td>\n      <td>5.763146</td>\n      <td>4.5</td>\n      <td>110.7408</td>\n    </tr>\n    <tr>\n      <th>2</th>\n      <td>MoZr</td>\n      <td>0.042500</td>\n      <td>384.000000</td>\n      <td>-5.988</td>\n      <td>3.18950</td>\n      <td>0.088020</td>\n      <td>8.091706</td>\n      <td>2417.672605</td>\n      <td>2512.0</td>\n      <td>0.07500</td>\n      <td>5.763146</td>\n      <td>5.0</td>\n      <td>158.3784</td>\n    </tr>\n    <tr>\n      <th>3</th>\n      <td>MoW</td>\n      <td>0.009100</td>\n      <td>399.500000</td>\n      <td>-0.221</td>\n      <td>3.15610</td>\n      <td>268.450958</td>\n      <td>0.146520</td>\n      <td>85938.681914</td>\n      <td>3295.5</td>\n      <td>0.00000</td>\n      <td>5.763146</td>\n      <td>6.0</td>\n      <td>285.8335</td>\n    </tr>\n    <tr>\n      <th>4</th>\n      <td>WTa</td>\n      <td>0.068050</td>\n      <td>202.500000</td>\n      <td>-7.298</td>\n      <td>3.23325</td>\n      <td>1.135961</td>\n      <td>2.252413</td>\n      <td>2757.986918</td>\n      <td>3492.5</td>\n      <td>0.06500</td>\n      <td>5.763146</td>\n      <td>5.5</td>\n      <td>218.0652</td>\n    </tr>\n  </tbody>\n</table>\n</div>"
     },
     "metadata": {},
     "execution_count": 2
    }
   ],
   "source": [
    "data = pd.read_csv(\"Youngs_Data_Refractory.csv\")\n",
    "data = data.iloc[:,1:data.shape[1]]\n",
    "data.head()"
   ]
  },
  {
   "cell_type": "code",
   "execution_count": 3,
   "metadata": {},
   "outputs": [
    {
     "output_type": "stream",
     "name": "stdout",
     "text": "Index(['Diff. Lattice Constants', 'Diff. Melting Point', 'Mixing Enthalpy',\n       'Lattice Constants', 'Lambda', 'Diff. in atomic radii', 'Omega',\n       'Melting Temp.', 'Diff. Electronegativity', 'Mixing Entropy',\n       'Valence electron'],\n      dtype='object')\n"
    },
    {
     "output_type": "execute_result",
     "data": {
      "text/plain": "   Diff. Lattice Constants  Diff. Melting Point  Mixing Enthalpy  \\\n0                 0.129156           476.414945            2.644   \n1                 0.175250           674.500000            1.388   \n2                 0.042500           384.000000           -5.988   \n3                 0.009100           399.500000           -0.221   \n4                 0.068050           202.500000           -7.298   \n\n   Lattice Constants      Lambda  Diff. in atomic radii         Omega  \\\n0            3.19618    0.536462               4.994417  12769.215378   \n1            3.12605    4.707131               1.106501  10859.876948   \n2            3.18950    0.088020               8.091706   2417.672605   \n3            3.15610  268.450958               0.146520  85938.681914   \n4            3.23325    1.135961               2.252413   2757.986918   \n\n   Melting Temp.  Diff. Electronegativity  Mixing Entropy  Valence electron  \n0         2523.0                  0.08681       13.381611               4.4  \n1         2615.5                  0.02000        5.763146               4.5  \n2         2512.0                  0.07500        5.763146               5.0  \n3         3295.5                  0.00000        5.763146               6.0  \n4         3492.5                  0.06500        5.763146               5.5  ",
      "text/html": "<div>\n<style scoped>\n    .dataframe tbody tr th:only-of-type {\n        vertical-align: middle;\n    }\n\n    .dataframe tbody tr th {\n        vertical-align: top;\n    }\n\n    .dataframe thead th {\n        text-align: right;\n    }\n</style>\n<table border=\"1\" class=\"dataframe\">\n  <thead>\n    <tr style=\"text-align: right;\">\n      <th></th>\n      <th>Diff. Lattice Constants</th>\n      <th>Diff. Melting Point</th>\n      <th>Mixing Enthalpy</th>\n      <th>Lattice Constants</th>\n      <th>Lambda</th>\n      <th>Diff. in atomic radii</th>\n      <th>Omega</th>\n      <th>Melting Temp.</th>\n      <th>Diff. Electronegativity</th>\n      <th>Mixing Entropy</th>\n      <th>Valence electron</th>\n    </tr>\n  </thead>\n  <tbody>\n    <tr>\n      <th>0</th>\n      <td>0.129156</td>\n      <td>476.414945</td>\n      <td>2.644</td>\n      <td>3.19618</td>\n      <td>0.536462</td>\n      <td>4.994417</td>\n      <td>12769.215378</td>\n      <td>2523.0</td>\n      <td>0.08681</td>\n      <td>13.381611</td>\n      <td>4.4</td>\n    </tr>\n    <tr>\n      <th>1</th>\n      <td>0.175250</td>\n      <td>674.500000</td>\n      <td>1.388</td>\n      <td>3.12605</td>\n      <td>4.707131</td>\n      <td>1.106501</td>\n      <td>10859.876948</td>\n      <td>2615.5</td>\n      <td>0.02000</td>\n      <td>5.763146</td>\n      <td>4.5</td>\n    </tr>\n    <tr>\n      <th>2</th>\n      <td>0.042500</td>\n      <td>384.000000</td>\n      <td>-5.988</td>\n      <td>3.18950</td>\n      <td>0.088020</td>\n      <td>8.091706</td>\n      <td>2417.672605</td>\n      <td>2512.0</td>\n      <td>0.07500</td>\n      <td>5.763146</td>\n      <td>5.0</td>\n    </tr>\n    <tr>\n      <th>3</th>\n      <td>0.009100</td>\n      <td>399.500000</td>\n      <td>-0.221</td>\n      <td>3.15610</td>\n      <td>268.450958</td>\n      <td>0.146520</td>\n      <td>85938.681914</td>\n      <td>3295.5</td>\n      <td>0.00000</td>\n      <td>5.763146</td>\n      <td>6.0</td>\n    </tr>\n    <tr>\n      <th>4</th>\n      <td>0.068050</td>\n      <td>202.500000</td>\n      <td>-7.298</td>\n      <td>3.23325</td>\n      <td>1.135961</td>\n      <td>2.252413</td>\n      <td>2757.986918</td>\n      <td>3492.5</td>\n      <td>0.06500</td>\n      <td>5.763146</td>\n      <td>5.5</td>\n    </tr>\n  </tbody>\n</table>\n</div>"
     },
     "metadata": {},
     "execution_count": 3
    }
   ],
   "source": [
    "# Preparing training data\n",
    "train_features = data.iloc[:,1:data.shape[1]-1]\n",
    "feature_names = train_features.columns\n",
    "print(feature_names)\n",
    "Y_train = data.iloc[:,-1]\n",
    "train_features.head()"
   ]
  },
  {
   "cell_type": "code",
   "execution_count": 5,
   "metadata": {},
   "outputs": [],
   "source": [
    "correlation = train_features.corr()\n",
    "correlation.to_csv('smaller_correlation.csv')"
   ]
  },
  {
   "cell_type": "code",
   "execution_count": 6,
   "metadata": {},
   "outputs": [
    {
     "output_type": "execute_result",
     "data": {
      "text/plain": "   Diff. Lattice Constants  Diff. Melting Point  Mixing Enthalpy  \\\n0                -0.375363            -0.315878         1.215738   \n1                 0.076551             0.923781         1.021209   \n2                -1.224958            -0.894230        -0.121189   \n3                -1.552419            -0.797228         0.772006   \n4                -0.974461            -2.030096        -0.324082   \n\n   Lattice Constants    Lambda  Diff. in atomic radii     Omega  \\\n0           0.248822 -0.107501               0.029526 -0.151763   \n1          -0.838763  0.045866              -2.369301 -0.192286   \n2           0.145228 -0.123991               1.940540 -0.371461   \n3          -0.372744  9.744409              -2.961604  1.401162   \n4           0.823709 -0.085456              -1.662278 -0.364238   \n\n   Melting Temp.  Diff. Electronegativity  Mixing Entropy  Valence electron  \n0      -0.064638                 0.451324        0.684527         -0.916637  \n1       0.236073                -2.126662       -2.393009         -0.674114  \n2      -0.100398                -0.004390       -2.393009          0.538500  \n3       2.446705                -2.898397       -2.393009          2.963730  \n4       3.087138                -0.390258       -2.393009          1.751115  ",
      "text/html": "<div>\n<style scoped>\n    .dataframe tbody tr th:only-of-type {\n        vertical-align: middle;\n    }\n\n    .dataframe tbody tr th {\n        vertical-align: top;\n    }\n\n    .dataframe thead th {\n        text-align: right;\n    }\n</style>\n<table border=\"1\" class=\"dataframe\">\n  <thead>\n    <tr style=\"text-align: right;\">\n      <th></th>\n      <th>Diff. Lattice Constants</th>\n      <th>Diff. Melting Point</th>\n      <th>Mixing Enthalpy</th>\n      <th>Lattice Constants</th>\n      <th>Lambda</th>\n      <th>Diff. in atomic radii</th>\n      <th>Omega</th>\n      <th>Melting Temp.</th>\n      <th>Diff. Electronegativity</th>\n      <th>Mixing Entropy</th>\n      <th>Valence electron</th>\n    </tr>\n  </thead>\n  <tbody>\n    <tr>\n      <th>0</th>\n      <td>-0.375363</td>\n      <td>-0.315878</td>\n      <td>1.215738</td>\n      <td>0.248822</td>\n      <td>-0.107501</td>\n      <td>0.029526</td>\n      <td>-0.151763</td>\n      <td>-0.064638</td>\n      <td>0.451324</td>\n      <td>0.684527</td>\n      <td>-0.916637</td>\n    </tr>\n    <tr>\n      <th>1</th>\n      <td>0.076551</td>\n      <td>0.923781</td>\n      <td>1.021209</td>\n      <td>-0.838763</td>\n      <td>0.045866</td>\n      <td>-2.369301</td>\n      <td>-0.192286</td>\n      <td>0.236073</td>\n      <td>-2.126662</td>\n      <td>-2.393009</td>\n      <td>-0.674114</td>\n    </tr>\n    <tr>\n      <th>2</th>\n      <td>-1.224958</td>\n      <td>-0.894230</td>\n      <td>-0.121189</td>\n      <td>0.145228</td>\n      <td>-0.123991</td>\n      <td>1.940540</td>\n      <td>-0.371461</td>\n      <td>-0.100398</td>\n      <td>-0.004390</td>\n      <td>-2.393009</td>\n      <td>0.538500</td>\n    </tr>\n    <tr>\n      <th>3</th>\n      <td>-1.552419</td>\n      <td>-0.797228</td>\n      <td>0.772006</td>\n      <td>-0.372744</td>\n      <td>9.744409</td>\n      <td>-2.961604</td>\n      <td>1.401162</td>\n      <td>2.446705</td>\n      <td>-2.898397</td>\n      <td>-2.393009</td>\n      <td>2.963730</td>\n    </tr>\n    <tr>\n      <th>4</th>\n      <td>-0.974461</td>\n      <td>-2.030096</td>\n      <td>-0.324082</td>\n      <td>0.823709</td>\n      <td>-0.085456</td>\n      <td>-1.662278</td>\n      <td>-0.364238</td>\n      <td>3.087138</td>\n      <td>-0.390258</td>\n      <td>-2.393009</td>\n      <td>1.751115</td>\n    </tr>\n  </tbody>\n</table>\n</div>"
     },
     "metadata": {},
     "execution_count": 6
    }
   ],
   "source": [
    "#scaling\n",
    "from sklearn.preprocessing import StandardScaler\n",
    "scaler = StandardScaler()\n",
    "scaled_train_features = pd.DataFrame(scaler.fit_transform(train_features))\n",
    "scaled_train_features.columns = feature_names\n",
    "scaled_train_features.head()"
   ]
  },
  {
   "cell_type": "code",
   "execution_count": 7,
   "metadata": {},
   "outputs": [],
   "source": [
    "# Gradient boosting\n",
    "from sklearn.ensemble import GradientBoostingRegressor\n",
    "\n",
    "# parameter after hyper parameter tuning \n",
    "params = {'learning_rate': 0.39, 'max_depth': 3, 'min_samples_leaf': 3, 'min_samples_split': 2, 'n_estimators': 200}\n",
    "\n",
    "gbr = GradientBoostingRegressor(**params, random_state = 1)"
   ]
  },
  {
   "cell_type": "code",
   "execution_count": 9,
   "metadata": {},
   "outputs": [],
   "source": [
    "# cross validation\n",
    "from sklearn.model_selection import cross_validate\n",
    "cv_result = cross_validate(gbr, scaled_train_features, Y_train, cv = 5, return_train_score = True, scoring = 'neg_mean_absolute_error')"
   ]
  },
  {
   "cell_type": "code",
   "execution_count": 10,
   "metadata": {},
   "outputs": [
    {
     "output_type": "stream",
     "name": "stdout",
     "text": "{'fit_time': array([0.18251801, 0.1584506 , 0.12094116, 0.14564252, 0.19700313]), 'score_time': array([0.00146484, 0.00134254, 0.00334978, 0.00289059, 0.00132442]), 'test_score': array([-17.97457097,  -9.95949727, -10.16039227, -11.14135467,\n       -13.85035262]), 'train_score': array([-2.47646405e-04, -7.88703962e-01, -7.88669502e-01, -2.24092520e-04,\n       -7.88704504e-01])}\ntrain error: -0.4733099415426761\ntest error: -12.6172335597428\n"
    }
   ],
   "source": [
    "print(cv_result)\n",
    "print('train error:', np.mean(cv_result['train_score']) )\n",
    "print('test error:', np.mean(cv_result['test_score']) )"
   ]
  },
  {
   "cell_type": "code",
   "execution_count": 12,
   "metadata": {},
   "outputs": [
    {
     "output_type": "execute_result",
     "data": {
      "text/plain": "GradientBoostingRegressor(alpha=0.9, ccp_alpha=0.0, criterion='friedman_mse',\n                          init=None, learning_rate=0.39, loss='ls', max_depth=3,\n                          max_features=None, max_leaf_nodes=None,\n                          min_impurity_decrease=0.0, min_impurity_split=None,\n                          min_samples_leaf=3, min_samples_split=2,\n                          min_weight_fraction_leaf=0.0, n_estimators=200,\n                          n_iter_no_change=None, presort='deprecated',\n                          random_state=1, subsample=1.0, tol=0.0001,\n                          validation_fraction=0.1, verbose=0, warm_start=False)"
     },
     "metadata": {},
     "execution_count": 12
    }
   ],
   "source": [
    "gbr.fit(scaled_train_features,Y_train)"
   ]
  },
  {
   "cell_type": "code",
   "execution_count": 14,
   "metadata": {},
   "outputs": [],
   "source": [
    "imp = pd.DataFrame(gbr.feature_importances_)\n",
    "result = pd.concat([pd.DataFrame(feature_names),imp],axis = 1)\n",
    "result.columns = ['Feature Names','Importance']\n",
    "result.to_csv(\"Feature_importance_gbr_refractory.csv\")"
   ]
  },
  {
   "cell_type": "code",
   "execution_count": 15,
   "metadata": {},
   "outputs": [],
   "source": [
    "# Ada Boost\n",
    "from sklearn.ensemble import AdaBoostRegressor\n",
    "\n",
    "# parameter after hyper parameter tuning \n",
    "params = {'learning_rate': 0.42, 'n_estimators': 250}\n",
    "\n",
    "ada = AdaBoostRegressor(**params, random_state = 1)"
   ]
  },
  {
   "cell_type": "code",
   "execution_count": 16,
   "metadata": {},
   "outputs": [],
   "source": [
    "# cross validation\n",
    "from sklearn.model_selection import cross_validate\n",
    "cv_result = cross_validate(ada, scaled_train_features, Y_train, cv = 5, return_train_score = True, scoring = 'neg_mean_absolute_error')"
   ]
  },
  {
   "cell_type": "code",
   "execution_count": 17,
   "metadata": {},
   "outputs": [
    {
     "output_type": "stream",
     "name": "stdout",
     "text": "{'fit_time': array([0.66777134, 0.12350249, 0.10863352, 0.646837  , 0.09967208]), 'score_time': array([0.04459596, 0.00587654, 0.00737357, 0.02669191, 0.00934076]), 'test_score': array([-20.35847607,  -9.64682899, -11.18473801, -12.36549639,\n       -18.48808468]), 'train_score': array([-4.79439771, -7.97486876, -7.73425811, -6.51816392, -7.54733972])}\ntrain error: -6.913805643757041\ntest error: -14.408724830262113\n"
    }
   ],
   "source": [
    "print(cv_result)\n",
    "print('train error:', np.mean(cv_result['train_score']) )\n",
    "print('test error:', np.mean(cv_result['test_score']) )"
   ]
  },
  {
   "cell_type": "code",
   "execution_count": 18,
   "metadata": {},
   "outputs": [
    {
     "output_type": "execute_result",
     "data": {
      "text/plain": "AdaBoostRegressor(base_estimator=None, learning_rate=0.42, loss='linear',\n                  n_estimators=250, random_state=1)"
     },
     "metadata": {},
     "execution_count": 18
    }
   ],
   "source": [
    "ada.fit(scaled_train_features,Y_train)"
   ]
  },
  {
   "cell_type": "code",
   "execution_count": 19,
   "metadata": {},
   "outputs": [
    {
     "output_type": "execute_result",
     "data": {
      "text/plain": "              Feature Names  Importance\n0   Diff. Lattice Constants    0.016173\n1       Diff. Melting Point    0.007944\n2           Mixing Enthalpy    0.011198\n3         Lattice Constants    0.002313\n4                    Lambda    0.060285\n5     Diff. in atomic radii    0.046152\n6                     Omega    0.007691\n7             Melting Temp.    0.075390\n8   Diff. Electronegativity    0.001203\n9            Mixing Entropy    0.002986\n10         Valence electron    0.768665",
      "text/html": "<div>\n<style scoped>\n    .dataframe tbody tr th:only-of-type {\n        vertical-align: middle;\n    }\n\n    .dataframe tbody tr th {\n        vertical-align: top;\n    }\n\n    .dataframe thead th {\n        text-align: right;\n    }\n</style>\n<table border=\"1\" class=\"dataframe\">\n  <thead>\n    <tr style=\"text-align: right;\">\n      <th></th>\n      <th>Feature Names</th>\n      <th>Importance</th>\n    </tr>\n  </thead>\n  <tbody>\n    <tr>\n      <th>0</th>\n      <td>Diff. Lattice Constants</td>\n      <td>0.016173</td>\n    </tr>\n    <tr>\n      <th>1</th>\n      <td>Diff. Melting Point</td>\n      <td>0.007944</td>\n    </tr>\n    <tr>\n      <th>2</th>\n      <td>Mixing Enthalpy</td>\n      <td>0.011198</td>\n    </tr>\n    <tr>\n      <th>3</th>\n      <td>Lattice Constants</td>\n      <td>0.002313</td>\n    </tr>\n    <tr>\n      <th>4</th>\n      <td>Lambda</td>\n      <td>0.060285</td>\n    </tr>\n    <tr>\n      <th>5</th>\n      <td>Diff. in atomic radii</td>\n      <td>0.046152</td>\n    </tr>\n    <tr>\n      <th>6</th>\n      <td>Omega</td>\n      <td>0.007691</td>\n    </tr>\n    <tr>\n      <th>7</th>\n      <td>Melting Temp.</td>\n      <td>0.075390</td>\n    </tr>\n    <tr>\n      <th>8</th>\n      <td>Diff. Electronegativity</td>\n      <td>0.001203</td>\n    </tr>\n    <tr>\n      <th>9</th>\n      <td>Mixing Entropy</td>\n      <td>0.002986</td>\n    </tr>\n    <tr>\n      <th>10</th>\n      <td>Valence electron</td>\n      <td>0.768665</td>\n    </tr>\n  </tbody>\n</table>\n</div>"
     },
     "metadata": {},
     "execution_count": 19
    }
   ],
   "source": [
    "imp = pd.DataFrame(ada.feature_importances_)\n",
    "result = pd.concat([pd.DataFrame(feature_names),imp],axis = 1)\n",
    "result.columns = ['Feature Names','Importance']\n",
    "result.to_csv(\"Feature_importance_ada_refractory.csv\")\n",
    "result"
   ]
  },
  {
   "cell_type": "code",
   "execution_count": 20,
   "metadata": {},
   "outputs": [],
   "source": [
    "# XGBoost\n",
    "\n",
    "# parameter after hyper parameter tuning \n",
    "params = {'learning_rate': 0.21, 'max_delta_step': 0, 'max_depth': 4, 'min_child_weight': 2, 'n_estimators': 100}\n",
    "\n",
    "import xgboost as xgb\n",
    "xgb_reg = xgb.XGBRegressor(**params, random_state=1)"
   ]
  },
  {
   "cell_type": "code",
   "execution_count": 21,
   "metadata": {},
   "outputs": [],
   "source": [
    "# cross validation\n",
    "from sklearn.model_selection import cross_validate\n",
    "cv_result = cross_validate(xgb_reg, scaled_train_features, Y_train, cv = 5, return_train_score = True, scoring = 'neg_mean_absolute_error')"
   ]
  },
  {
   "cell_type": "code",
   "execution_count": 22,
   "metadata": {},
   "outputs": [
    {
     "output_type": "stream",
     "name": "stdout",
     "text": "{'fit_time': array([0.21562886, 0.07600951, 0.05091858, 0.09587336, 0.06838942]), 'score_time': array([0.00323534, 0.02217174, 0.00674248, 0.01072764, 0.00879264]), 'test_score': array([-19.58677123,  -9.3255882 ,  -9.82201458, -12.30493562,\n       -11.21929683]), 'train_score': array([-0.07340881, -0.84846103, -0.87681016, -0.08431747, -0.86800381])}\ntrain error: -0.5502002568663092\ntest error: -12.451721289621455\n"
    }
   ],
   "source": [
    "print(cv_result)\n",
    "print('train error:', np.mean(cv_result['train_score']) )\n",
    "print('test error:', np.mean(cv_result['test_score']) )"
   ]
  },
  {
   "cell_type": "code",
   "execution_count": 23,
   "metadata": {},
   "outputs": [
    {
     "output_type": "execute_result",
     "data": {
      "text/plain": "XGBRegressor(base_score=0.5, booster='gbtree', colsample_bylevel=1,\n             colsample_bynode=1, colsample_bytree=1, gamma=0, gpu_id=-1,\n             importance_type='gain', interaction_constraints='',\n             learning_rate=0.21, max_delta_step=0, max_depth=4,\n             min_child_weight=2, missing=nan, monotone_constraints='()',\n             n_estimators=100, n_jobs=0, num_parallel_tree=1,\n             objective='reg:squarederror', random_state=1, reg_alpha=0,\n             reg_lambda=1, scale_pos_weight=1, subsample=1, tree_method='exact',\n             validate_parameters=1, verbosity=None)"
     },
     "metadata": {},
     "execution_count": 23
    }
   ],
   "source": [
    "xgb_reg.fit(scaled_train_features,Y_train)"
   ]
  },
  {
   "cell_type": "code",
   "execution_count": 25,
   "metadata": {},
   "outputs": [
    {
     "output_type": "execute_result",
     "data": {
      "text/plain": "              Feature Names  Importance\n0   Diff. Lattice Constants    0.007768\n1       Diff. Melting Point    0.016856\n2           Mixing Enthalpy    0.023201\n3         Lattice Constants    0.004717\n4                    Lambda    0.047388\n5     Diff. in atomic radii    0.016712\n6                     Omega    0.002098\n7             Melting Temp.    0.087393\n8   Diff. Electronegativity    0.004496\n9            Mixing Entropy    0.006630\n10         Valence electron    0.782743",
      "text/html": "<div>\n<style scoped>\n    .dataframe tbody tr th:only-of-type {\n        vertical-align: middle;\n    }\n\n    .dataframe tbody tr th {\n        vertical-align: top;\n    }\n\n    .dataframe thead th {\n        text-align: right;\n    }\n</style>\n<table border=\"1\" class=\"dataframe\">\n  <thead>\n    <tr style=\"text-align: right;\">\n      <th></th>\n      <th>Feature Names</th>\n      <th>Importance</th>\n    </tr>\n  </thead>\n  <tbody>\n    <tr>\n      <th>0</th>\n      <td>Diff. Lattice Constants</td>\n      <td>0.007768</td>\n    </tr>\n    <tr>\n      <th>1</th>\n      <td>Diff. Melting Point</td>\n      <td>0.016856</td>\n    </tr>\n    <tr>\n      <th>2</th>\n      <td>Mixing Enthalpy</td>\n      <td>0.023201</td>\n    </tr>\n    <tr>\n      <th>3</th>\n      <td>Lattice Constants</td>\n      <td>0.004717</td>\n    </tr>\n    <tr>\n      <th>4</th>\n      <td>Lambda</td>\n      <td>0.047388</td>\n    </tr>\n    <tr>\n      <th>5</th>\n      <td>Diff. in atomic radii</td>\n      <td>0.016712</td>\n    </tr>\n    <tr>\n      <th>6</th>\n      <td>Omega</td>\n      <td>0.002098</td>\n    </tr>\n    <tr>\n      <th>7</th>\n      <td>Melting Temp.</td>\n      <td>0.087393</td>\n    </tr>\n    <tr>\n      <th>8</th>\n      <td>Diff. Electronegativity</td>\n      <td>0.004496</td>\n    </tr>\n    <tr>\n      <th>9</th>\n      <td>Mixing Entropy</td>\n      <td>0.006630</td>\n    </tr>\n    <tr>\n      <th>10</th>\n      <td>Valence electron</td>\n      <td>0.782743</td>\n    </tr>\n  </tbody>\n</table>\n</div>"
     },
     "metadata": {},
     "execution_count": 25
    }
   ],
   "source": [
    "imp = pd.DataFrame(xgb_reg.feature_importances_)\n",
    "result = pd.concat([pd.DataFrame(feature_names),imp],axis = 1)\n",
    "result.columns = ['Feature Names','Importance']\n",
    "result.to_csv(\"Feature_importance_xgb_refractory.csv\")\n",
    "result"
   ]
  },
  {
   "cell_type": "code",
   "execution_count": null,
   "metadata": {},
   "outputs": [],
   "source": []
  }
 ],
 "metadata": {
  "language_info": {
   "codemirror_mode": {
    "name": "ipython",
    "version": 3
   },
   "file_extension": ".py",
   "mimetype": "text/x-python",
   "name": "python",
   "nbconvert_exporter": "python",
   "pygments_lexer": "ipython3",
   "version": 3
  },
  "orig_nbformat": 2,
  "kernelspec": {
   "name": "python_defaultSpec_1596136736395",
   "display_name": "Python 3.7.6 64-bit ('base': conda)"
  }
 },
 "nbformat": 4,
 "nbformat_minor": 2
}